{
  "cells": [
    {
      "cell_type": "markdown",
      "metadata": {},
      "source": [
        "Access Jaeger Trace server with `http://localhost:16686/)`"
      ]
    },
    {
      "cell_type": "code",
      "execution_count": 4,
      "metadata": {},
      "outputs": [
        {
          "name": "stdout",
          "output_type": "stream",
          "text": [
            "Nvidia GPU detected!\n",
            "Invalid trace level string: False\n",
            "torchvision_alexnet model exists\n",
            "Using cache found in /home/harveykw/.cache/torch/hub/pytorch_vision_v0.10.0\n",
            "/home/harveykw/miniconda3/envs/torch_elr/lib/python3.11/site-packages/torchvision/models/_utils.py:208: UserWarning: The parameter 'pretrained' is deprecated since 0.13 and may be removed in the future, please use 'weights' instead.\n",
            "  warnings.warn(\n",
            "/home/harveykw/miniconda3/envs/torch_elr/lib/python3.11/site-packages/torchvision/models/_utils.py:223: UserWarning: Arguments other than a weight enum or `None` for 'weights' are deprecated since 0.13 and may be removed in the future. The current behavior is equivalent to passing `weights=AlexNet_Weights.IMAGENET1K_V1`. You can also use `weights=AlexNet_Weights.DEFAULT` to get the most up-to-date weights.\n",
            "  warnings.warn(msg)\n",
            "The features file does not exist\n",
            "Start download the features file\n",
            "100%|██████████████████████████████████████| 31.7k/31.7k [00:00<00:00, 361kiB/s]\n",
            "Features file download complete\n",
            "pytorch-agent is loaded with torchvision_alexnet model\n",
            "\n",
            "test_data dataset exists\n",
            "test_data dataset is loaded\n",
            "\n",
            "prediction starts\n",
            "Warmup\n",
            "Warmup done\n",
            "prediction is done\n",
            "\n",
            "outputs are as follows:\n",
            "[254 156 248 207 239 259]\n"
          ]
        }
      ],
      "source": [
        "!python run_image_classification.py --task image_classification --agent pytorch --model_name torchvision_alexnet --architecture gpu --num_warmup 2 --dataset_name test_data --batch_size 1"
      ]
    },
    {
      "cell_type": "markdown",
      "metadata": {},
      "source": []
    },
    {
      "cell_type": "code",
      "execution_count": 1,
      "metadata": {},
      "outputs": [
        {
          "name": "stdout",
          "output_type": "stream",
          "text": [
            "Nvidia GPU detected!\n",
            "attention_target_detection model exists\n",
            "pytorch-agent is loaded with attention_target_detection model\n",
            "\n",
            "attention_detection_data dataset exists\n",
            "attention_detection_data dataset is loaded\n",
            "\n",
            "prediction starts\n",
            "DONE!\n",
            "Your output video has been saved at: `pydldataset/datasets/tmp/attention_detection_data/outputs` !\n",
            "prediction is done\n",
            "\n",
            "outputs are as follows:\n",
            "[0]\n"
          ]
        }
      ],
      "source": [
        "!python run_attention_detection.py --task attention_detection --agent pytorch --model_name attention_target_detection --architecture gpu --num_warmup 0 --dataset_name attention_detection_data --batch_size 1"
      ]
    },
    {
      "cell_type": "code",
      "execution_count": 13,
      "metadata": {},
      "outputs": [
        {
          "name": "stdout",
          "output_type": "stream",
          "text": [
            "Invalid trace level string: False\n",
            "eye_contact_cnn model exists\n",
            "Traceback (most recent call last):\n",
            "  File \"/mnt/c/Users/Harvey/Coding/ELR/mlmodelscope/py-mlmodelscope/run_attention_detection.py\", line 269, in <module>\n",
            "    main() \n",
            "    ^^^^^^\n",
            "  File \"/mnt/c/Users/Harvey/Coding/ELR/mlmodelscope/py-mlmodelscope/run_attention_detection.py\", line 73, in main\n",
            "    mlms.load_agent(task, agent, model_name, security_check) \n",
            "    ^^^^^^^^^^^^^^^^^^^^^^^^^^^^^^^^^^^^^^^^^^^^^^^^^^^^^^^^\n",
            "  File \"/mnt/c/Users/Harvey/Coding/ELR/mlmodelscope/py-mlmodelscope/mlmodelscope/mlmodelscope.py\", line 64, in load_agent\n",
            "    self.agent = PyTorch_Agent(task, model_name, self.architecture, self.tracer, self.ctx, security_check, config, user) \n",
            "                 ^^^^^^^^^^^^^^^^^^^^^^^^^^^^^^^^^^^^^^^^^^^^^^^^^^^^^^^^^^^^^^^^^^^^^^^^^^^^^^^^^^^^^^^^^^^^^^^^^^^^^^^\n",
            "  File \"/mnt/c/Users/Harvey/Coding/ELR/mlmodelscope/py-mlmodelscope/mlmodelscope/pytorch_agent/pytorch_agent.py\", line 47, in __init__\n",
            "    self.load_model(task, model_name, security_check, config, user) \n",
            "    ^^^^^^^^^^^^^^^^^^^^^^^^^^^^^^^^^^^^^^^^^^^^^^^^^^^^^^^^^^^^^^^\n",
            "  File \"/mnt/c/Users/Harvey/Coding/ELR/mlmodelscope/py-mlmodelscope/mlmodelscope/pytorch_agent/pytorch_agent.py\", line 61, in load_model\n",
            "    self.model.to(self.device)\n",
            "  File \"/mnt/c/Users/Harvey/Coding/ELR/mlmodelscope/py-mlmodelscope/mlmodelscope/pytorch_agent/models/pytorch_abc.py\", line 54, in to\n",
            "    self.model = self.model.to(device)\n",
            "                 ^^^^^^^^^^\n",
            "AttributeError: 'Eye_Contact_CNN' object has no attribute 'model'\n"
          ]
        }
      ],
      "source": [
        "!python run_attention_detection.py --task attention_detection --agent pytorch --model_name eye_contact_cnn --architecture cpu --num_warmup 0 --dataset_name attention_detection_data --batch_size 1"
      ]
    },
    {
      "cell_type": "code",
      "execution_count": null,
      "metadata": {},
      "outputs": [],
      "source": [
        "import torch\n",
        "for i in range(torch.cuda.device_count()):\n",
        "   print(torch.cuda.get_device_properties(i).name)"
      ]
    },
    {
      "cell_type": "code",
      "execution_count": null,
      "metadata": {},
      "outputs": [],
      "source": [
        "!python run_talking_head_generation.py --task talking_head_generation --agent pytorch --model_name sadtalker --architecture cpu --num_warmup 0 --dataset_name sadtalker_data --batch_size 1"
      ]
    }
  ],
  "metadata": {
    "colab": {
      "provenance": []
    },
    "kernelspec": {
      "display_name": "Python 3",
      "name": "python3"
    },
    "language_info": {
      "codemirror_mode": {
        "name": "ipython",
        "version": 3
      },
      "file_extension": ".py",
      "mimetype": "text/x-python",
      "name": "python",
      "nbconvert_exporter": "python",
      "pygments_lexer": "ipython3",
      "version": "3.11.5"
    }
  },
  "nbformat": 4,
  "nbformat_minor": 0
}
