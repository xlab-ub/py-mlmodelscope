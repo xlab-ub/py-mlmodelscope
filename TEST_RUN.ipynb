{
  "cells": [
    {
      "cell_type": "markdown",
      "metadata": {},
      "source": [
        "Access Jaeger Trace server with `http://localhost:16686/)`"
      ]
    },
    {
      "cell_type": "code",
      "execution_count": null,
      "metadata": {},
      "outputs": [],
      "source": [
        "!python run_image_classification.py --task image_classification --agent pytorch --model_name torchvision_alexnet --architecture gpu --num_warmup 2 --dataset_name test_data --batch_size 1"
      ]
    },
    {
      "cell_type": "markdown",
      "metadata": {},
      "source": []
    },
    {
      "cell_type": "code",
      "execution_count": 11,
      "metadata": {},
      "outputs": [
        {
          "name": "stdout",
          "output_type": "stream",
          "text": [
            "Nvidia GPU detected!\n",
            "attention_target_detection model exists\n",
            "pytorch-agent is loaded with attention_target_detection model\n",
            "\n",
            "attention_detection_data dataset exists\n",
            "attention_detection_data dataset is loaded\n",
            "\n",
            "prediction starts\n",
            "\n",
            "Working on frame: 0\n",
            "\n",
            "Working on frame: 1\n",
            "\n",
            "Working on frame: 2\n",
            "\n",
            "Working on frame: 3\n",
            "\n",
            "Working on frame: 4\n",
            "\n",
            "Working on frame: 5\n",
            "\n",
            "Working on frame: 6\n",
            "\n",
            "Working on frame: 7\n",
            "\n",
            "Working on frame: 8\n",
            "\n",
            "Working on frame: 9\n",
            "DONE!\n",
            "prediction is done\n",
            "\n",
            "outputs are as follows:\n",
            "[0]\n"
          ]
        }
      ],
      "source": [
        "!python run_attention_detection.py --task attention_detection --agent pytorch --model_name attention_target_detection --architecture gpu --num_warmup 0 --dataset_name attention_detection_data --batch_size 1"
      ]
    },
    {
      "cell_type": "code",
      "execution_count": null,
      "metadata": {},
      "outputs": [],
      "source": [
        "import torch\n",
        "for i in range(torch.cuda.device_count()):\n",
        "   print(torch.cuda.get_device_properties(i).name)"
      ]
    },
    {
      "cell_type": "code",
      "execution_count": null,
      "metadata": {},
      "outputs": [],
      "source": []
    }
  ],
  "metadata": {
    "colab": {
      "provenance": []
    },
    "kernelspec": {
      "display_name": "Python 3",
      "name": "python3"
    },
    "language_info": {
      "codemirror_mode": {
        "name": "ipython",
        "version": 3
      },
      "file_extension": ".py",
      "mimetype": "text/x-python",
      "name": "python",
      "nbconvert_exporter": "python",
      "pygments_lexer": "ipython3",
      "version": "3.11.5"
    }
  },
  "nbformat": 4,
  "nbformat_minor": 0
}
